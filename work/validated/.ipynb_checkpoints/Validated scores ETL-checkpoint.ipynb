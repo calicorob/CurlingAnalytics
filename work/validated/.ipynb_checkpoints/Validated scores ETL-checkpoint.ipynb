{
 "cells": [
  {
   "cell_type": "code",
   "execution_count": 1,
   "id": "alike-commander",
   "metadata": {},
   "outputs": [],
   "source": [
    "## library imports\n",
    "\n",
    "## file IO\n",
    "import pandas as pd\n",
    "\n",
    "## db connection\n",
    "import config\n",
    "\n",
    "## linear algebra\n",
    "import numpy as np"
   ]
  },
  {
   "cell_type": "code",
   "execution_count": 2,
   "id": "favorite-testament",
   "metadata": {},
   "outputs": [],
   "source": [
    "## db engine\n",
    "\n",
    "engine = config.get_engine(database='processing')\n",
    "validated_engine = config.get_engine(database='validated')"
   ]
  },
  {
   "cell_type": "code",
   "execution_count": 3,
   "id": "changing-jacksonville",
   "metadata": {},
   "outputs": [],
   "source": [
    "## read in scores\n",
    "scores = pd.read_sql(\"SELECT * FROM Linescore;\",con=engine)"
   ]
  },
  {
   "cell_type": "code",
   "execution_count": 4,
   "id": "seventh-shooting",
   "metadata": {},
   "outputs": [],
   "source": [
    "## columns of interest\n",
    "\n",
    "ends = ['End{}'.format(_) for _ in range(1,13)]"
   ]
  },
  {
   "cell_type": "code",
   "execution_count": 5,
   "id": "modified-listing",
   "metadata": {},
   "outputs": [],
   "source": [
    "## Replace nulls with 0s and add up linescores\n",
    "\n",
    "scores['FinalScoreCheck'] = scores[ends].replace(np.nan,0).sum(axis=1)"
   ]
  },
  {
   "cell_type": "code",
   "execution_count": 6,
   "id": "ethical-static",
   "metadata": {},
   "outputs": [],
   "source": [
    "## Elimnate linescores where the noted final score does not equal the final score check\n",
    "\n",
    "scores = scores.loc[scores.FinalScore == scores.FinalScoreCheck].reset_index(drop=True)\n",
    "\n",
    "## drop unneeded column\n",
    "scores = scores.drop(\"FinalScoreCheck\",axis=1)"
   ]
  },
  {
   "cell_type": "code",
   "execution_count": 7,
   "id": "popular-favorite",
   "metadata": {},
   "outputs": [],
   "source": [
    "## Find games where sum of final score is greater than 0\n",
    "\n",
    "grouped_fs = scores.groupby(['GameID'])[['FinalScore']].sum()\n",
    "grouped_fs = grouped_fs.loc[grouped_fs.FinalScore > 0]"
   ]
  },
  {
   "cell_type": "code",
   "execution_count": 8,
   "id": "square-musician",
   "metadata": {},
   "outputs": [],
   "source": [
    "## Find games where valid hammer is present\n",
    "\n",
    "grouped_hammer = scores.groupby(['GameID'])[['Hammer']].sum()\n",
    "grouped_hammer = grouped_hammer.loc[grouped_hammer.Hammer == 1]"
   ]
  },
  {
   "cell_type": "code",
   "execution_count": 9,
   "id": "educated-inspiration",
   "metadata": {},
   "outputs": [],
   "source": [
    "## filter scores down\n",
    "\n",
    "## filter scores where final score is greater than 0\n",
    "scores = scores.loc[scores.GameID.isin(grouped_fs.index)]\n",
    "\n",
    "## filter scores where valid hammer exists \n",
    "scores = scores.loc[scores.GameID.isin(grouped_hammer.index)]"
   ]
  },
  {
   "cell_type": "code",
   "execution_count": 10,
   "id": "joint-worst",
   "metadata": {},
   "outputs": [],
   "source": [
    "## sum up count of GameIDs\n",
    "\n",
    "s = scores.GameID.value_counts()\n",
    "\n",
    "## only keep GameIDs where count == 2 (2 linescores for 1 game )\n",
    "s = s.loc[s == 2]\n",
    "\n",
    "## filter games where 2 GameIDs exists\n",
    "scores = scores.loc[scores.GameID.isin(s.index)]\n"
   ]
  },
  {
   "cell_type": "code",
   "execution_count": 11,
   "id": "cordless-target",
   "metadata": {},
   "outputs": [],
   "source": [
    "## sql\n",
    "\n",
    "index = False\n",
    "if_exists = 'append'\n",
    "\n",
    "scores.to_sql(\"Linescore\",con=validated_engine,index=index,if_exists=if_exists)"
   ]
  },
  {
   "cell_type": "code",
   "execution_count": null,
   "id": "turkish-drawing",
   "metadata": {},
   "outputs": [],
   "source": []
  }
 ],
 "metadata": {
  "kernelspec": {
   "display_name": "Python 3",
   "language": "python",
   "name": "python3"
  },
  "language_info": {
   "codemirror_mode": {
    "name": "ipython",
    "version": 3
   },
   "file_extension": ".py",
   "mimetype": "text/x-python",
   "name": "python",
   "nbconvert_exporter": "python",
   "pygments_lexer": "ipython3",
   "version": "3.7.3"
  }
 },
 "nbformat": 4,
 "nbformat_minor": 5
}
