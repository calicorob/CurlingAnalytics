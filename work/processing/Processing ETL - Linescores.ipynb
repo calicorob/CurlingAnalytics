{
 "cells": [
  {
   "cell_type": "code",
   "execution_count": 1,
   "metadata": {},
   "outputs": [],
   "source": [
    "## library imports\n",
    "\n",
    "## db connection params\n",
    "from config import get_engine\n",
    "\n",
    "## IO\n",
    "import pandas as pd\n",
    "\n",
    "## linear algebra\n",
    "import numpy as np\n",
    "\n",
    "## regex \n",
    "import re \n",
    "\n",
    "## timimg\n",
    "import time\n",
    "\n",
    "from processing import strip, replace_empty_string,map_season,replace_finished_game_vals"
   ]
  },
  {
   "cell_type": "code",
   "execution_count": 2,
   "metadata": {},
   "outputs": [],
   "source": [
    "## db engine\n",
    "engine = get_engine(\"landing\")\n",
    "processing_engine = get_engine('processing')"
   ]
  },
  {
   "cell_type": "code",
   "execution_count": 3,
   "metadata": {},
   "outputs": [],
   "source": [
    "## getting curling linescores from raspberry pi MySql DB\n",
    "\n",
    "scores = pd.read_sql(\"SELECT * FROM Linescore;\",con=engine)"
   ]
  },
  {
   "cell_type": "code",
   "execution_count": 4,
   "metadata": {},
   "outputs": [],
   "source": [
    "ends = [\"End{}\".format(str(end)) for end in range(1,13)]"
   ]
  },
  {
   "cell_type": "code",
   "execution_count": 5,
   "metadata": {},
   "outputs": [],
   "source": [
    "## strip all end scores \n",
    "\n",
    "scores[ends] = scores[ends].applymap(strip)"
   ]
  },
  {
   "cell_type": "code",
   "execution_count": 6,
   "metadata": {},
   "outputs": [],
   "source": [
    "## replace empty strings with null values\n",
    "\n",
    "scores[ends] = scores[ends].applymap(replace_empty_string)"
   ]
  },
  {
   "cell_type": "code",
   "execution_count": 7,
   "metadata": {},
   "outputs": [],
   "source": [
    "## replace 'X'\n",
    "\n",
    "scores[ends] = scores[ends].applymap(replace_finished_game_vals)"
   ]
  },
  {
   "cell_type": "code",
   "execution_count": 8,
   "metadata": {},
   "outputs": [],
   "source": [
    "## add year\n",
    "\n",
    "pat = r\".*(\\d{4})\"\n",
    "years = scores['EventDates'].str.extract(pat=pat)\n",
    "assert years.isnull().sum().sum() == 0\n",
    "scores['Year'] = years.copy().astype('int')"
   ]
  },
  {
   "cell_type": "code",
   "execution_count": 9,
   "metadata": {},
   "outputs": [],
   "source": [
    "## add start month\n",
    "\n",
    "pat = r\"^(\\w*)\"\n",
    "start_month = scores['EventDates'].str.extract(pat=pat)\n",
    "assert start_month.isnull().sum().sum() == 0\n",
    "scores['StartMonth'] = start_month.copy()"
   ]
  },
  {
   "cell_type": "code",
   "execution_count": 10,
   "metadata": {},
   "outputs": [],
   "source": [
    "## add end month\n",
    "\n",
    "pat = r\"^.*-\\s([\\D][^\\d\\s]*)\"\n",
    "scores['EndMonth'] = scores['EventDates'].str.extract(pat=pat,expand=False)\n",
    "scores['EndMonth'] = scores['EndMonth'].combine_first(scores['StartMonth'])"
   ]
  },
  {
   "cell_type": "code",
   "execution_count": 11,
   "metadata": {},
   "outputs": [],
   "source": [
    "## start day\n",
    "\n",
    "pat = r\"^\\D{1,6}\\s(\\d*)\"\n",
    "\n",
    "start_day = scores['EventDates'].str.extract(pat=pat,expand=False)\n",
    "assert start_day.isnull().sum() == 0\n",
    "\n",
    "scores['EventDayStart'] = start_day.copy().astype(int)"
   ]
  },
  {
   "cell_type": "code",
   "execution_count": 12,
   "metadata": {},
   "outputs": [],
   "source": [
    "## end day\n",
    "\n",
    "\n",
    "pat = r\"^\\w*\\s*\\d*\\s*-\\s*(?:[a-zA-Z]*)?\\s*(\\d*)\"\n",
    "end_day = scores['EventDates'].str.extract(pat=pat,expand=False)\n",
    "scores['EventDayEnd'] = end_day.copy()\n",
    "scores['EventDayEnd'] = scores['EventDayEnd'].combine_first(scores['EventDayStart']).astype(int)"
   ]
  },
  {
   "cell_type": "code",
   "execution_count": 13,
   "metadata": {},
   "outputs": [],
   "source": [
    "## get draw \n",
    "\n",
    "pat = r\"^.*\\s(.*)\"\n",
    "draw = scores['Draw'].str.extract(pat=pat,expand=False)\n",
    "assert draw.isnull().sum() == 0\n",
    "\n",
    "scores['Draw'] = draw.copy()"
   ]
  },
  {
   "cell_type": "code",
   "execution_count": 14,
   "metadata": {},
   "outputs": [],
   "source": [
    "## get TeamID\n",
    "\n",
    "pat = r\"^.*teamid=(\\d*)\"\n",
    "team_ids = scores['TeamLink'].str.extract(pat=pat,expand=False)\n",
    "assert team_ids.isnull().sum() == 0\n",
    "\n",
    "scores['TeamID'] = team_ids.copy()"
   ]
  },
  {
   "cell_type": "code",
   "execution_count": 15,
   "metadata": {},
   "outputs": [],
   "source": [
    "## drop cols\n",
    "\n",
    "drop_cols = ['EventDates']\n",
    "scores = scores.drop(drop_cols,axis=1)"
   ]
  },
  {
   "cell_type": "code",
   "execution_count": 16,
   "metadata": {},
   "outputs": [],
   "source": [
    "## sql\n",
    "\n",
    "index = False\n",
    "if_exists = 'append'\n",
    "scores.to_sql(\"Linescore\",con=processing_engine,index=index,if_exists=if_exists)"
   ]
  },
  {
   "cell_type": "code",
   "execution_count": null,
   "metadata": {},
   "outputs": [],
   "source": []
  }
 ],
 "metadata": {
  "kernelspec": {
   "display_name": "Python 3",
   "language": "python",
   "name": "python3"
  },
  "language_info": {
   "codemirror_mode": {
    "name": "ipython",
    "version": 3
   },
   "file_extension": ".py",
   "mimetype": "text/x-python",
   "name": "python",
   "nbconvert_exporter": "python",
   "pygments_lexer": "ipython3",
   "version": "3.7.3"
  }
 },
 "nbformat": 4,
 "nbformat_minor": 4
}
