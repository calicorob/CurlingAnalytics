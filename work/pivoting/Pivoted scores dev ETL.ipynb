{
 "cells": [
  {
   "cell_type": "code",
   "execution_count": 1,
   "id": "dangerous-appeal",
   "metadata": {},
   "outputs": [],
   "source": [
    "## library imports\n",
    "\n",
    "import pandas as pd\n",
    "import config\n",
    "from pivoting import create_game"
   ]
  },
  {
   "cell_type": "code",
   "execution_count": 2,
   "id": "taken-player",
   "metadata": {},
   "outputs": [],
   "source": [
    "## db engine\n",
    "\n",
    "## Scores db\n",
    "engine = config.get_engine(database='dnorm')\n",
    "\n",
    "## landing db \n",
    "landing_engine = config.get_engine(database='landing')"
   ]
  },
  {
   "cell_type": "code",
   "execution_count": 3,
   "id": "dressed-relay",
   "metadata": {},
   "outputs": [],
   "source": [
    "sql = \"\"\"\n",
    "\n",
    "        SELECT\n",
    "             TeamID AS Team\n",
    "            ,Hammer\n",
    "            ,FinalScore\n",
    "            ,End1\n",
    "            ,End2\n",
    "            ,End3\n",
    "            ,End4\n",
    "            ,End5\n",
    "            ,End6\n",
    "            ,End7\n",
    "            ,End8\n",
    "            ,End9\n",
    "            ,End10\n",
    "            ,End11\n",
    "            ,End12\n",
    "            ,GameID\n",
    "        FROM Linescore\n",
    "\n",
    "\"\"\"\n"
   ]
  },
  {
   "cell_type": "code",
   "execution_count": 4,
   "id": "spread-fitting",
   "metadata": {},
   "outputs": [],
   "source": [
    "## read in scores\n",
    "scores = pd.read_sql(sql,con=engine)"
   ]
  },
  {
   "cell_type": "code",
   "execution_count": null,
   "id": "suspended-whale",
   "metadata": {},
   "outputs": [],
   "source": [
    "## push pivoted scores to new table \n",
    "\n",
    "index = False\n",
    "if_exists='append'\n",
    "\n",
    "for game_id in scores.GameID.unique():\n",
    "    try:\n",
    "        game = create_game(game_id=game_id,games=scores)\n",
    "        game.to_frame().to_sql(\"PivotedLinescore\",con=landing_engine,index=index,if_exists=if_exists)\n",
    "    except:\n",
    "        pass"
   ]
  },
  {
   "cell_type": "code",
   "execution_count": null,
   "id": "vertical-grocery",
   "metadata": {},
   "outputs": [],
   "source": []
  }
 ],
 "metadata": {
  "kernelspec": {
   "display_name": "Python 3",
   "language": "python",
   "name": "python3"
  },
  "language_info": {
   "codemirror_mode": {
    "name": "ipython",
    "version": 3
   },
   "file_extension": ".py",
   "mimetype": "text/x-python",
   "name": "python",
   "nbconvert_exporter": "python",
   "pygments_lexer": "ipython3",
   "version": "3.7.3"
  }
 },
 "nbformat": 4,
 "nbformat_minor": 5
}
