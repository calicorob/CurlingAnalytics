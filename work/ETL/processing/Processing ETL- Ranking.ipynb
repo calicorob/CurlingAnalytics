{
 "cells": [
  {
   "cell_type": "code",
   "execution_count": 1,
   "metadata": {},
   "outputs": [],
   "source": [
    "## library imports\n",
    "\n",
    "## db connection params\n",
    "from config import get_engine\n",
    "\n",
    "## IO\n",
    "import pandas as pd\n",
    "\n",
    "## linear algebra\n",
    "import numpy as np\n",
    "\n",
    "## regex \n",
    "import re \n",
    "\n",
    "## timimg\n",
    "import time\n",
    "\n",
    "from processing import strip, replace_empty_string,map_season,replace_finished_game_vals"
   ]
  },
  {
   "cell_type": "code",
   "execution_count": 2,
   "metadata": {},
   "outputs": [],
   "source": [
    "## db engine\n",
    "engine = get_engine(\"landing\")\n",
    "processing_engine = get_engine('processing')"
   ]
  },
  {
   "cell_type": "code",
   "execution_count": 3,
   "metadata": {},
   "outputs": [],
   "source": [
    "## getting curling linescores from raspberry pi MySql DB\n",
    "\n",
    "rankings = pd.read_sql(\"SELECT * FROM Ranking;\",con=engine)"
   ]
  },
  {
   "cell_type": "code",
   "execution_count": 4,
   "metadata": {},
   "outputs": [],
   "source": [
    "cols = ['Name','Rank']"
   ]
  },
  {
   "cell_type": "code",
   "execution_count": 5,
   "metadata": {},
   "outputs": [],
   "source": [
    "## strip cols\n",
    "\n",
    "rankings[cols] = rankings[cols].applymap(strip)"
   ]
  },
  {
   "cell_type": "code",
   "execution_count": 6,
   "metadata": {},
   "outputs": [],
   "source": [
    "## replace empty strings with null values\n",
    "\n",
    "rankings[cols] = rankings[cols].applymap(replace_empty_string)"
   ]
  },
  {
   "cell_type": "code",
   "execution_count": 7,
   "metadata": {},
   "outputs": [],
   "source": [
    "## add rank\n",
    "\n",
    "pat = r\"(\\d+)(?=.)\"\n",
    "ranks = rankings['Rank'].str.extract(pat=pat,expand=False)\n",
    "assert ranks.isnull().sum() == 0\n",
    "rankings['Rank'] = ranks.copy()"
   ]
  },
  {
   "cell_type": "code",
   "execution_count": 8,
   "metadata": {},
   "outputs": [],
   "source": [
    "## get TeamID\n",
    "\n",
    "pat = r\"^.*teamid=(\\d*)\"\n",
    "team_ids = rankings['TeamLink'].str.extract(pat=pat,expand=False)\n",
    "assert team_ids.isnull().sum() == 0\n",
    "\n",
    "rankings['TeamID'] = team_ids.copy()"
   ]
  },
  {
   "cell_type": "code",
   "execution_count": 9,
   "metadata": {},
   "outputs": [],
   "source": [
    "## sql\n",
    "\n",
    "index = False\n",
    "if_exists = 'append'\n",
    "rankings.to_sql(\"Ranking\",con=processing_engine,index=index,if_exists=if_exists)"
   ]
  },
  {
   "cell_type": "code",
   "execution_count": null,
   "metadata": {},
   "outputs": [],
   "source": []
  }
 ],
 "metadata": {
  "kernelspec": {
   "display_name": "Python 3",
   "language": "python",
   "name": "python3"
  },
  "language_info": {
   "codemirror_mode": {
    "name": "ipython",
    "version": 3
   },
   "file_extension": ".py",
   "mimetype": "text/x-python",
   "name": "python",
   "nbconvert_exporter": "python",
   "pygments_lexer": "ipython3",
   "version": "3.7.3"
  }
 },
 "nbformat": 4,
 "nbformat_minor": 4
}
