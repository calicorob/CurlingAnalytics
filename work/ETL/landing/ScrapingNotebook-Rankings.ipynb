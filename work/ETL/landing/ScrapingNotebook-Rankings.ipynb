{
 "cells": [
  {
   "cell_type": "code",
   "execution_count": 1,
   "id": "downtown-neutral",
   "metadata": {},
   "outputs": [],
   "source": [
    "## library imports\n",
    "\n",
    "## scraping module\n",
    "import scraping\n",
    "\n",
    "## warnings\n",
    "import warnings\n",
    "warnings.filterwarnings('ignore')\n",
    "\n",
    "## db connection\n",
    "from config import get_engine\n",
    "\n",
    "## IO\n",
    "import pandas as pd"
   ]
  },
  {
   "cell_type": "code",
   "execution_count": 2,
   "id": "devoted-stamp",
   "metadata": {},
   "outputs": [],
   "source": [
    "## db engine\n",
    "\n",
    "engine = get_engine(database='landing')"
   ]
  },
  {
   "cell_type": "code",
   "execution_count": 3,
   "id": "demonstrated-subscriber",
   "metadata": {},
   "outputs": [],
   "source": [
    "## parameters\n",
    "\n",
    "verify = False"
   ]
  },
  {
   "cell_type": "markdown",
   "id": "wooden-encounter",
   "metadata": {},
   "source": [
    "## Men's Teams"
   ]
  },
  {
   "cell_type": "code",
   "execution_count": 4,
   "id": "otherwise-tuning",
   "metadata": {},
   "outputs": [],
   "source": [
    "## scraping\n",
    "\n",
    "## loop through years\n",
    "for year in range(2010,2022):\n",
    "    url = \"https://www.curlingzone.com/rankings.php?task=week&oomid=81&eventyear={}#1\".format(year)\n",
    "    try:\n",
    "        df = scraping.scrape_all_rankings(url=url,year=year)\n",
    "        df.to_sql(\"Ranking\",con=engine,if_exists='append',index=False)\n",
    "    except:\n",
    "        pass"
   ]
  },
  {
   "cell_type": "markdown",
   "id": "amended-competition",
   "metadata": {},
   "source": [
    "## Women's Teams"
   ]
  },
  {
   "cell_type": "code",
   "execution_count": 5,
   "id": "ranging-joshua",
   "metadata": {},
   "outputs": [],
   "source": [
    "## scraping\n",
    "\n",
    "## loop through years\n",
    "for year in range(2010,2022):\n",
    "    url = \"https://www.curlingzone.com/rankings.php?task=week&oomid=82&eventyear={}#1\".format(year)\n",
    "    try:\n",
    "        df = scraping.scrape_all_rankings(url=url,year=year)\n",
    "        df.to_sql(\"Ranking\",con=engine,if_exists='append',index=False)\n",
    "    except:\n",
    "        pass"
   ]
  }
 ],
 "metadata": {
  "kernelspec": {
   "display_name": "Python 3",
   "language": "python",
   "name": "python3"
  },
  "language_info": {
   "codemirror_mode": {
    "name": "ipython",
    "version": 3
   },
   "file_extension": ".py",
   "mimetype": "text/x-python",
   "name": "python",
   "nbconvert_exporter": "python",
   "pygments_lexer": "ipython3",
   "version": "3.7.3"
  }
 },
 "nbformat": 4,
 "nbformat_minor": 5
}
